{
 "cells": [
  {
   "cell_type": "code",
   "execution_count": 3,
   "id": "81a846cb-4171-4f50-ba40-7d3db1cd1036",
   "metadata": {},
   "outputs": [],
   "source": [
    "import pandas as pd"
   ]
  },
  {
   "cell_type": "code",
   "execution_count": 4,
   "id": "cceda2bb-81e9-4657-847e-213bdbdc3372",
   "metadata": {},
   "outputs": [],
   "source": [
    "# Creating a dictionary based on the provided data\n",
    "data_dict = {\n",
    "    'Feature': [\n",
    "        'Age', 'Height', 'Weight', 'Gender', 'Systolic blood pressure', \n",
    "        'Diastolic blood pressure', 'Cholesterol', 'Glucose', 'Smoking', \n",
    "        'Alcohol intake', 'Physical activity', 'Presence or absence of cardiovascular disease'\n",
    "    ],\n",
    "    'Variable Type': [\n",
    "        'Objective Feature', 'Objective Feature', 'Objective Feature', 'Objective Feature', \n",
    "        'Examination Feature', 'Examination Feature', 'Examination Feature', \n",
    "        'Examination Feature', 'Subjective Feature', 'Subjective Feature', \n",
    "        'Subjective Feature', 'Target Variable'\n",
    "    ],\n",
    "    'Variable': [\n",
    "        'age', 'height', 'weight', 'gender', 'ap_hi', 'ap_lo', \n",
    "        'cholesterol', 'gluc', 'smoke', 'alco', 'active', 'cardio'\n",
    "    ],\n",
    "    'Value Type': [\n",
    "        'int (days)', 'int (cm)', 'float (kg)', 'categorical code', 'int', 'int', \n",
    "        '1: normal, 2: above normal, 3: well above normal', \n",
    "        '1: normal, 2: above normal, 3: well above normal', \n",
    "        'binary', 'binary', 'binary', 'binary'\n",
    "    ]\n",
    "}"
   ]
  },
  {
   "cell_type": "code",
   "execution_count": 5,
   "id": "71709d4f-b371-413d-b367-248b8bbe5c4c",
   "metadata": {},
   "outputs": [],
   "source": [
    "df = pd.DataFrame(data_dict)"
   ]
  },
  {
   "cell_type": "code",
   "execution_count": 10,
   "id": "91805873-ba8b-4450-8a70-c231b64b694a",
   "metadata": {},
   "outputs": [],
   "source": [
    "csv_file_path = \"medical_examination.csv\"\n",
    "df.to_csv(csv_file_path, index=False)"
   ]
  },
  {
   "cell_type": "code",
   "execution_count": null,
   "id": "e2beb90f-a009-4e79-9561-169943f58caf",
   "metadata": {},
   "outputs": [],
   "source": []
  }
 ],
 "metadata": {
  "kernelspec": {
   "display_name": "Python 3 (ipykernel)",
   "language": "python",
   "name": "python3"
  },
  "language_info": {
   "codemirror_mode": {
    "name": "ipython",
    "version": 3
   },
   "file_extension": ".py",
   "mimetype": "text/x-python",
   "name": "python",
   "nbconvert_exporter": "python",
   "pygments_lexer": "ipython3",
   "version": "3.12.5"
  }
 },
 "nbformat": 4,
 "nbformat_minor": 5
}
